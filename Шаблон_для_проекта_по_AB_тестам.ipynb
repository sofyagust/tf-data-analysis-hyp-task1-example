{
  "cells": [
    {
      "cell_type": "markdown",
      "metadata": {
        "id": "view-in-github",
        "colab_type": "text"
      },
      "source": [
        "<a href=\"https://colab.research.google.com/github/sofyagust/tf-data-analysis-hyp-task1-example/blob/main/%D0%A8%D0%B0%D0%B1%D0%BB%D0%BE%D0%BD_%D0%B4%D0%BB%D1%8F_%D0%BF%D1%80%D0%BE%D0%B5%D0%BA%D1%82%D0%B0_%D0%BF%D0%BE_AB_%D1%82%D0%B5%D1%81%D1%82%D0%B0%D0%BC.ipynb\" target=\"_parent\"><img src=\"https://colab.research.google.com/assets/colab-badge.svg\" alt=\"Open In Colab\"/></a>"
      ]
    },
    {
      "cell_type": "markdown",
      "id": "96ac1922",
      "metadata": {
        "id": "96ac1922"
      },
      "source": [
        "# Шаблон для проекта по A/B - тестам."
      ]
    },
    {
      "cell_type": "markdown",
      "id": "e01e5ec9",
      "metadata": {
        "id": "e01e5ec9"
      },
      "source": [
        "### `chat_id ` из Телеграма:"
      ]
    },
    {
      "cell_type": "code",
      "source": [],
      "metadata": {
        "id": "Of7L1OK6jEKT"
      },
      "id": "Of7L1OK6jEKT",
      "execution_count": null,
      "outputs": []
    },
    {
      "cell_type": "markdown",
      "id": "1fb036f5",
      "metadata": {
        "id": "1fb036f5"
      },
      "source": [
        "------------------"
      ]
    },
    {
      "cell_type": "markdown",
      "id": "d8c6f14f",
      "metadata": {
        "id": "d8c6f14f"
      },
      "source": [
        "##  <ins>Задание 1.</ins>"
      ]
    },
    {
      "cell_type": "markdown",
      "source": [
        "### 0. Запосить у бота в Телеграме условие командой `/get_project1_desc`."
      ],
      "metadata": {
        "id": "cMi1ZWvej6zB"
      },
      "id": "cMi1ZWvej6zB"
    },
    {
      "cell_type": "markdown",
      "id": "0dd4c840",
      "metadata": {
        "id": "0dd4c840"
      },
      "source": [
        "### 1. Необходимо выбрать метрику и привести аргументацию."
      ]
    },
    {
      "cell_type": "code",
      "source": [],
      "metadata": {
        "id": "vG7kmtMEjHOU"
      },
      "id": "vG7kmtMEjHOU",
      "execution_count": null,
      "outputs": []
    },
    {
      "cell_type": "markdown",
      "id": "b644cd0a",
      "metadata": {
        "id": "b644cd0a"
      },
      "source": [
        "### 2. Альтернатива в критерии."
      ]
    },
    {
      "cell_type": "code",
      "source": [],
      "metadata": {
        "id": "KFMpcB0mjJXN"
      },
      "id": "KFMpcB0mjJXN",
      "execution_count": null,
      "outputs": []
    },
    {
      "cell_type": "markdown",
      "id": "727aefc4",
      "metadata": {
        "id": "727aefc4"
      },
      "source": [
        "### 3.1. Каков размер выборки? Привести аргументацию и написать как получилось то или иное число."
      ]
    },
    {
      "cell_type": "code",
      "source": [],
      "metadata": {
        "id": "fYijOurfjLNp"
      },
      "id": "fYijOurfjLNp",
      "execution_count": null,
      "outputs": []
    },
    {
      "cell_type": "markdown",
      "id": "8df8ee73",
      "metadata": {
        "id": "8df8ee73"
      },
      "source": [
        "### 3.2. Необходимо запросить у бота в Телеграме выборку полученного размера командой `/get_project1_sample {размер выборки}` и вписать <ins>код выборки</ins>:"
      ]
    },
    {
      "cell_type": "code",
      "source": [],
      "metadata": {
        "id": "9vCrM3wcjM0H"
      },
      "id": "9vCrM3wcjM0H",
      "execution_count": null,
      "outputs": []
    },
    {
      "cell_type": "markdown",
      "id": "22e2d9b0",
      "metadata": {
        "id": "22e2d9b0"
      },
      "source": [
        "### 4. Принятие решения. Расписать подробно с аргументами."
      ]
    },
    {
      "cell_type": "code",
      "source": [],
      "metadata": {
        "id": "C9NO-_o3jON1"
      },
      "id": "C9NO-_o3jON1",
      "execution_count": null,
      "outputs": []
    },
    {
      "cell_type": "markdown",
      "id": "f9e15111",
      "metadata": {
        "id": "f9e15111"
      },
      "source": [
        "------------------"
      ]
    },
    {
      "cell_type": "markdown",
      "id": "7ea196b1",
      "metadata": {
        "id": "7ea196b1"
      },
      "source": [
        "##  <ins>Задание 2.</ins>"
      ]
    },
    {
      "cell_type": "markdown",
      "source": [
        "### 0. Запосить у бота в Телеграме условие командой `/get_project2_desc`."
      ],
      "metadata": {
        "id": "M0mI4jfTkCk6"
      },
      "id": "M0mI4jfTkCk6"
    },
    {
      "cell_type": "markdown",
      "id": "e4691844",
      "metadata": {
        "id": "e4691844"
      },
      "source": [
        "### 1. Необходимо выбрать метрику и привести аргументацию."
      ]
    },
    {
      "cell_type": "code",
      "source": [],
      "metadata": {
        "id": "Q3Zae2tSjQFW"
      },
      "id": "Q3Zae2tSjQFW",
      "execution_count": null,
      "outputs": []
    },
    {
      "cell_type": "markdown",
      "id": "e36b594c",
      "metadata": {
        "id": "e36b594c"
      },
      "source": [
        "### 2. Альтернатива в критерии."
      ]
    },
    {
      "cell_type": "code",
      "source": [],
      "metadata": {
        "id": "pBmniztEjRQP"
      },
      "id": "pBmniztEjRQP",
      "execution_count": null,
      "outputs": []
    },
    {
      "cell_type": "markdown",
      "id": "692b97f3",
      "metadata": {
        "id": "692b97f3"
      },
      "source": [
        "### 3. Нужно выбрать параметр(-ы), влияющий(-ие) на целевую метрику. Привести аргументацию."
      ]
    },
    {
      "cell_type": "code",
      "source": [],
      "metadata": {
        "id": "4bYv6W9ljUEg"
      },
      "id": "4bYv6W9ljUEg",
      "execution_count": null,
      "outputs": []
    },
    {
      "cell_type": "markdown",
      "id": "9b40ecbb",
      "metadata": {
        "id": "9b40ecbb"
      },
      "source": [
        "### 4.1. Каков размер выборки? Привести аргументацию и написать как получилось то или иное число."
      ]
    },
    {
      "cell_type": "code",
      "source": [],
      "metadata": {
        "id": "tk7WBLvmjSnM"
      },
      "id": "tk7WBLvmjSnM",
      "execution_count": null,
      "outputs": []
    },
    {
      "cell_type": "markdown",
      "id": "b13ea8ee",
      "metadata": {
        "id": "b13ea8ee"
      },
      "source": [
        "### 4.2. Необходимо запросить у бота в Телеграме выборку полученного размера командой `/get_project2_sample {размер выборки}` и вписать <ins>код выборки</ins>:"
      ]
    },
    {
      "cell_type": "code",
      "source": [],
      "metadata": {
        "id": "F5c-oqIBjVJS"
      },
      "id": "F5c-oqIBjVJS",
      "execution_count": null,
      "outputs": []
    },
    {
      "cell_type": "markdown",
      "id": "f6945c8f",
      "metadata": {
        "id": "f6945c8f"
      },
      "source": [
        "### 5. Проверка на однородность, применение критерия. Принятие решения. Расписать подробно с аргументами."
      ]
    },
    {
      "cell_type": "code",
      "source": [],
      "metadata": {
        "id": "LVlEnA4DjWp5"
      },
      "id": "LVlEnA4DjWp5",
      "execution_count": null,
      "outputs": []
    }
  ],
  "metadata": {
    "kernelspec": {
      "display_name": "Python 3 (ipykernel)",
      "language": "python",
      "name": "python3"
    },
    "language_info": {
      "codemirror_mode": {
        "name": "ipython",
        "version": 3
      },
      "file_extension": ".py",
      "mimetype": "text/x-python",
      "name": "python",
      "nbconvert_exporter": "python",
      "pygments_lexer": "ipython3",
      "version": "3.9.7"
    },
    "colab": {
      "provenance": [],
      "include_colab_link": true
    }
  },
  "nbformat": 4,
  "nbformat_minor": 5
}